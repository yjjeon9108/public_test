{
 "cells": [
  {
   "cell_type": "code",
   "execution_count": null,
   "id": "424911c9",
   "metadata": {},
   "outputs": [],
   "source": [
    "# please"
   ]
  }
 ],
 "metadata": {
  "language_info": {
   "name": "python"
  }
 },
 "nbformat": 4,
 "nbformat_minor": 5
}
