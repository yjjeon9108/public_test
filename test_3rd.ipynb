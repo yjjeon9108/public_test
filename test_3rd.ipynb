{
 "cells": [
  {
   "cell_type": "code",
   "execution_count": null,
   "id": "aa8d32dd",
   "metadata": {},
   "outputs": [],
   "source": [
    "asdasd"
   ]
  }
 ],
 "metadata": {
  "language_info": {
   "name": "python"
  }
 },
 "nbformat": 4,
 "nbformat_minor": 5
}
